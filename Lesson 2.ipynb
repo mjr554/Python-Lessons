{
 "cells": [
  {
   "cell_type": "markdown",
   "metadata": {},
   "source": [
    "In Python a class is a means of bundling data and functionality together. This is most useful for object ortientated programming. We won't cover this in detail as there is little use in data manipulation."
   ]
  },
  {
   "cell_type": "code",
   "execution_count": 1,
   "metadata": {},
   "outputs": [
    {
     "name": "stdout",
     "output_type": "stream",
     "text": [
      "Fer is a red convertible worth $60000.00.\n",
      "Jump is a blue van worth $10000.00.\n"
     ]
    }
   ],
   "source": [
    "# define the Vehicle class\n",
    "class Vehicle:\n",
    "    name = \"\"\n",
    "    kind = \"car\"\n",
    "    color = \"\"\n",
    "    value = 100.00\n",
    "    def description(self):\n",
    "        desc_str = \"%s is a %s %s worth $%.2f.\" % (self.name, self.color, self.kind, self.value) \n",
    "        # %s tells python to replace with a string, %.2f is replace with a string from a float that was rounded to 2dp\n",
    "        # The values are filled in, in the same order as in the brackets\n",
    "        return desc_str\n",
    "\n",
    "# your code goes here\n",
    "car1 = Vehicle()\n",
    "car1.name = \"Fer\"\n",
    "car1.color = \"red\"\n",
    "car1.kind = \"convertible\"\n",
    "car1.value = 60000.00\n",
    "\n",
    "car2 = Vehicle()\n",
    "car2.name = \"Jump\"\n",
    "car2.color = \"blue\"\n",
    "car2.kind = \"van\"\n",
    "car2.value = 10000.00\n",
    "\n",
    "# test code\n",
    "print(car1.description())\n",
    "print(car2.description())"
   ]
  },
  {
   "cell_type": "markdown",
   "metadata": {},
   "source": [
    "The use case in the IT Revenue Report scripts is:  \n",
    "(this example is from 123WEEEreport)"
   ]
  },
  {
   "cell_type": "code",
   "execution_count": 2,
   "metadata": {},
   "outputs": [],
   "source": [
    "class Creds():\n",
    "    SpreadsheetID = '1fcTlgORhTCuQXNq60S6NnNRof-v9phPfQlDVAh7Mo84'\n",
    "    SheetName1 = '123data'\n",
    "    SheetName2 = 'StructureParts'\n",
    "    SheetNames = [SheetName1, SheetName2]\n",
    "    \n",
    "    Update_Spread = 'WEEE report'\n",
    "    Update_Sheet = 'EEE Report'\n",
    "    Update_Cell = 'H1'\n",
    "    \n",
    "    BQ_TABLE_GROUP = 'WEEE_Report'\n",
    "    BQ_TABLE1 = 'SalesInvoicesData'\n",
    "    BQ_TABLE2 = 'PartsData'\n",
    "    BQ_TABLES = [BQ_TABLE1, BQ_TABLE2]\n",
    "    BQ_PROJECT_ID = 'analoxrevenuereport'"
   ]
  },
  {
   "cell_type": "markdown",
   "metadata": {},
   "source": [
    "The main script then pulls this data through and uses it"
   ]
  },
  {
   "cell_type": "code",
   "execution_count": 3,
   "metadata": {},
   "outputs": [],
   "source": [
    "module.GS(module.Creds.SpreadsheetID, module.Creds.SheetNames, dfList)\n",
    "# This sends the spreadsheet ID, sheet name(s), and calculated data (one set for each sheet is there are multiple)\n",
    "# to the function GS in the module."
   ]
  },
  {
   "cell_type": "markdown",
   "metadata": {},
   "source": [
    "However this probably isn't the correct usage of a class as we could easily of had:"
   ]
  },
  {
   "cell_type": "code",
   "execution_count": 4,
   "metadata": {},
   "outputs": [],
   "source": [
    "SpreadsheetID = '1fcTlgORhTCuQXNq60S6NnNRof-v9phPfQlDVAh7Mo84'\n",
    "SheetName1 = '123data'\n",
    "SheetName2 = 'StructureParts'\n",
    "SheetNames = [SheetName1, SheetName2]\n",
    "\n",
    "Update_Spread = 'WEEE report'\n",
    "Update_Sheet = 'EEE Report'\n",
    "Update_Cell = 'H1'\n",
    "\n",
    "BQ_TABLE_GROUP = 'WEEE_Report'\n",
    "BQ_TABLE1 = 'SalesInvoicesData'\n",
    "BQ_TABLE2 = 'PartsData'\n",
    "BQ_TABLES = [BQ_TABLE1, BQ_TABLE2]\n",
    "BQ_PROJECT_ID = 'analoxrevenuereport'"
   ]
  },
  {
   "cell_type": "code",
   "execution_count": 5,
   "metadata": {},
   "outputs": [],
   "source": [
    "module.GS(module.SpreadsheetID, module.SheetNames, dfList)"
   ]
  }
 ],
 "metadata": {
  "kernelspec": {
   "display_name": "Python 3",
   "language": "python",
   "name": "python3"
  },
  "language_info": {
   "codemirror_mode": {
    "name": "ipython",
    "version": 3
   },
   "file_extension": ".py",
   "mimetype": "text/x-python",
   "name": "python",
   "nbconvert_exporter": "python",
   "pygments_lexer": "ipython3",
   "version": "3.8.3"
  }
 },
 "nbformat": 4,
 "nbformat_minor": 4
}
