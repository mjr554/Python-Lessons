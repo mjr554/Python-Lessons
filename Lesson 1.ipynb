{
 "cells": [
  {
   "cell_type": "markdown",
   "metadata": {},
   "source": [
    "Now we will have a look at functions.\n",
    "\n",
    "\n",
    "A function is a block of code which only runs when it is called that can be called to run a set of actions.\n",
    "\n",
    "For instance in the Order Book IT python scripts there is a function to convert a date to the Excel/Google Sheets numerical representation of that date.\n",
    "This uses the excel day 0, 0/1/1900 (which is actually in the code 30/12/1899 and not 31/12/1899 as it would be with real maths due to an extra leap year: https://stackoverflow.com/questions/3963617/why-is-1899-12-30-the-zero-date-in-access-sql-server-instead-of-12-31).\n",
    "\n",
    "It puts the date and the 0th day both into a format that the code can process quickly. It then finds the difference from those two values and converts the processable value into a day difference.\n",
    "\n",
    "Eg 14/9/2021 11:30 would be 44453 (as that is the number of days since 31/12/1899) plus .48 (as 11:30 is .48 of the way through a single day) so 44453.48 is the output."
   ]
  },
  {
   "cell_type": "markdown",
   "metadata": {},
   "source": [
    "An example function:"
   ]
  },
  {
   "cell_type": "code",
   "execution_count": 1,
   "metadata": {},
   "outputs": [],
   "source": [
    "def function_name(called_variable): # def says we are defining a function (also known as a definition)\n",
    "    new_variable = called_variable**5\n",
    "    new_variable += 3\n",
    "    return (new_variable)"
   ]
  },
  {
   "cell_type": "code",
   "execution_count": 2,
   "metadata": {},
   "outputs": [
    {
     "name": "stdout",
     "output_type": "stream",
     "text": [
      "3128\n"
     ]
    }
   ],
   "source": [
    "#Variable name sent/recieved to/from the function doesn't need to be named the same way or at all for it to work\n",
    "new = function_name(5) #Call the function and pass the variable\n",
    "print (new)"
   ]
  },
  {
   "cell_type": "code",
   "execution_count": 3,
   "metadata": {},
   "outputs": [
    {
     "name": "stdout",
     "output_type": "stream",
     "text": [
      "3128\n"
     ]
    }
   ],
   "source": [
    "vari = 5\n",
    "print(function_name(vari))"
   ]
  },
  {
   "cell_type": "markdown",
   "metadata": {},
   "source": [
    "Some funtions don't have inputs as there is no data needed to pass to them.\n",
    "E.g. a function \n",
    "\n",
    "Some functions don't have return statements as there may be nothing to return.\n",
    "E.g. if we were to upload several files to Google Sheets, by paasing the data to a function there would be no data to return to the code."
   ]
  },
  {
   "cell_type": "code",
   "execution_count": 5,
   "metadata": {},
   "outputs": [],
   "source": [
    "def get_name():\n",
    "    user=input('Provide name: ')\n",
    "    print('Your name is:',user)"
   ]
  },
  {
   "cell_type": "markdown",
   "metadata": {},
   "source": [
    " \n",
    " "
   ]
  },
  {
   "cell_type": "markdown",
   "metadata": {},
   "source": [
    "\n",
    "\n",
    "Helpfully many people in the world have created packages. A package is a folder of related python modules each filled with their own related functions and statements (A statement is intended to initialize the module). \n",
    "\n",
    "A module is essentially the same as a script, both are '.py' files and both have code in them. However when executing a script we expect there to be some outcome or output, but when running a module in >90% of cases nothing should happen, since the file is full of functions which are uncalled."
   ]
  },
  {
   "cell_type": "markdown",
   "metadata": {},
   "source": [
    "A script can call it's own functions as we have tried above or we can use the 'import' statement at the start of a script to access a function that is in another package, nested in a module:"
   ]
  },
  {
   "cell_type": "code",
   "execution_count": 9,
   "metadata": {},
   "outputs": [
    {
     "data": {
      "text/plain": [
       "array([0., 0., 0., 0., 0.])"
      ]
     },
     "execution_count": 9,
     "metadata": {},
     "output_type": "execute_result"
    }
   ],
   "source": [
    "import numpy as np # Here we import numpy but state that we will refer to it as np from now on\n",
    "\n",
    "np.zeros(5) # Creates an array of zeros with a length equal to the value in the brackets."
   ]
  },
  {
   "cell_type": "markdown",
   "metadata": {},
   "source": [
    "Note: we don't need to know which module the function 'zeros' is in, all we need is the package name."
   ]
  },
  {
   "cell_type": "code",
   "execution_count": null,
   "metadata": {},
   "outputs": [],
   "source": []
  }
 ],
 "metadata": {
  "kernelspec": {
   "display_name": "Python 3",
   "language": "python",
   "name": "python3"
  },
  "language_info": {
   "codemirror_mode": {
    "name": "ipython",
    "version": 3
   },
   "file_extension": ".py",
   "mimetype": "text/x-python",
   "name": "python",
   "nbconvert_exporter": "python",
   "pygments_lexer": "ipython3",
   "version": "3.8.3"
  }
 },
 "nbformat": 4,
 "nbformat_minor": 4
}
